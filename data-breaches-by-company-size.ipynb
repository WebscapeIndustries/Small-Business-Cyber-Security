{
 "cells": [
  {
   "cell_type": "code",
   "execution_count": 39,
   "id": "4cca78b0-a1c0-4a65-ac17-036078d69c99",
   "metadata": {},
   "outputs": [],
   "source": [
    "# install devtools from https://github.com/hadley/devtools\n",
    "#devtools::install_github(\"vz-risk/verisr\")\n",
    "library(tidyverse)\n",
    "library(ggplot2)\n",
    "library(\"scales\")\n",
    "library(dplyr)\n",
    "library(verisr)\n"
   ]
  },
  {
   "cell_type": "code",
   "execution_count": 40,
   "id": "fd3641a1-fff1-4549-a903-85bc153fc048",
   "metadata": {},
   "outputs": [
    {
     "name": "stderr",
     "output_type": "stream",
     "text": [
      "Skipping install of 'verisr' from a github remote, the SHA1 (18cd3e86) has not changed since last install.\n",
      "  Use `force = TRUE` to force installation\n",
      "\n"
     ]
    }
   ],
   "source": [
    "devtools::install_github(\"vz-risk/verisr\")"
   ]
  },
  {
   "cell_type": "code",
   "execution_count": 41,
   "id": "5816da00-6d0d-450f-90ad-b0b40d73a8bd",
   "metadata": {},
   "outputs": [
    {
     "name": "stderr",
     "output_type": "stream",
     "text": [
      "Warning message in json2veris(vcdb.dir, schema = \"VCDB/vcdb-merged.json\"):\n",
      "\"Column[s]: \n",
      "  \"action.physical.vector.Privileged access\", \n",
      "Not found in schema, source file:VCDB/data/json/validated/003c2a32-a95b-499b-9e9c-ea268df7bf1a.json\"\n",
      "Warning message in json2veris(vcdb.dir, schema = \"VCDB/vcdb-merged.json\"):\n",
      "\"Column[s]: \n",
      "  \"plus.attack_difficulty_initial.Not Applicable\", \n",
      "Not found in schema, source file:VCDB/data/json/validated/004a9681-f5bb-4c26-9972-97969fcdf2b0.jsonColumn[s]: \n",
      "  \"plus.attack_difficulty_legacy.Not Applicable\", \n",
      "Not found in schema, source file:VCDB/data/json/validated/004a9681-f5bb-4c26-9972-97969fcdf2b0.jsonColumn[s]: \n",
      "  \"plus.attack_difficulty_subsequent.Not Applicable\", \n",
      "Not found in schema, source file:VCDB/data/json/validated/004a9681-f5bb-4c26-9972-97969fcdf2b0.json\"\n",
      "Warning message in json2veris(vcdb.dir, schema = \"VCDB/vcdb-merged.json\"):\n",
      "\"Column[s]: \n",
      "  \"plus.analysis_status.Needs review\", \n",
      "Not found in schema, source file:VCDB/data/json/validated/00fd327e-6929-4b23-9c52-763bdee14080.json\"\n",
      "Warning message in json2veris(vcdb.dir, schema = \"VCDB/vcdb-merged.json\"):\n",
      "\"Column[s]: \n",
      "  \"action.hacking.variety.Use of backdoor or C2\", \n",
      "Not found in schema, source file:VCDB/data/json/validated/05638263-849F-4E8D-9074-05314DAB7F40.jsonColumn[s]: \n",
      "  \"action.hacking.vector.Backdoor or C2\", \n",
      "Not found in schema, source file:VCDB/data/json/validated/05638263-849F-4E8D-9074-05314DAB7F40.json\"\n",
      "Warning message in json2veris(vcdb.dir, schema = \"VCDB/vcdb-merged.json\"):\n",
      "\"Column[s]: \n",
      "  \"action.social.vector.Website\", \n",
      "Not found in schema, source file:VCDB/data/json/validated/c376d1bd-bf74-4eff-9265-9b3c808dfc66.json\"\n",
      "Warning message in json2veris(vcdb.dir, schema = \"VCDB/vcdb-merged.json\"):\n",
      "\"Column[s]: \n",
      "  \"action.hacking.variety.Footprinting\", \n",
      "Not found in schema, source file:VCDB/data/json/validated/e509fe04-f545-4009-a8c8-9c908d952a0e.json\"\n",
      "\u001b[1mRows: \u001b[22m\u001b[34m18\u001b[39m \u001b[1mColumns: \u001b[22m\u001b[34m2\u001b[39m\n",
      "\u001b[36m--\u001b[39m \u001b[1mColumn specification\u001b[22m \u001b[36m-------------------------------------------------------\u001b[39m\n",
      "\u001b[1mDelimiter:\u001b[22m \",\"\n",
      "\u001b[31mchr\u001b[39m (2): cluster, pattern\n",
      "\n",
      "\u001b[36mi\u001b[39m Use `spec()` to retrieve the full column specification for this data.\n",
      "\u001b[36mi\u001b[39m Specify the column types or set `show_col_types = FALSE` to quiet this message.\n",
      "\u001b[1mRows: \u001b[22m\u001b[34m5\u001b[39m \u001b[1mColumns: \u001b[22m\u001b[34m2\u001b[39m\n",
      "\u001b[36m--\u001b[39m \u001b[1mColumn specification\u001b[22m \u001b[36m-------------------------------------------------------\u001b[39m\n",
      "\u001b[1mDelimiter:\u001b[22m \",\"\n",
      "\u001b[31mchr\u001b[39m (2): from, to\n",
      "\n",
      "\u001b[36mi\u001b[39m Use `spec()` to retrieve the full column specification for this data.\n",
      "\u001b[36mi\u001b[39m Specify the column types or set `show_col_types = FALSE` to quiet this message.\n",
      "\u001b[1mRows: \u001b[22m\u001b[34m0\u001b[39m \u001b[1mColumns: \u001b[22m\u001b[34m2\u001b[39m\n",
      "\u001b[36m--\u001b[39m \u001b[1mColumn specification\u001b[22m \u001b[36m-------------------------------------------------------\u001b[39m\n",
      "\u001b[1mDelimiter:\u001b[22m \",\"\n",
      "\u001b[31mchr\u001b[39m (2): from, to\n",
      "\n",
      "\u001b[36mi\u001b[39m Use `spec()` to retrieve the full column specification for this data.\n",
      "\u001b[36mi\u001b[39m Specify the column types or set `show_col_types = FALSE` to quiet this message.\n"
     ]
    },
    {
     "name": "stdout",
     "output_type": "stream",
     "text": [
      "[1] \"veris dimensions\"\n",
      "[1] 9009 2548\n",
      "        action.physical.vector.Privileged access \n",
      "                                            2499 \n",
      "   plus.attack_difficulty_initial.Not Applicable \n",
      "                                            2500 \n",
      "    plus.attack_difficulty_legacy.Not Applicable \n",
      "                                            2501 \n",
      "plus.attack_difficulty_subsequent.Not Applicable \n",
      "                                            2502 \n",
      "               plus.analysis_status.Needs review \n",
      "                                            2503 \n",
      "    action.hacking.variety.Use of backdoor or C2 \n",
      "                                            2504 \n",
      "            action.hacking.vector.Backdoor or C2 \n",
      "                                            2505 \n",
      "                    action.social.vector.Website \n",
      "                                            2506 \n",
      "             action.hacking.variety.Footprinting \n",
      "                                            2507 \n",
      "named integer(0)\n"
     ]
    }
   ],
   "source": [
    "data('industry2', package='verisr')\n",
    "vcdb.dir <- \"VCDB/data/json/validated\"\n",
    "veris <- json2veris(vcdb.dir, schema=\"VCDB/vcdb-merged.json\")"
   ]
  },
  {
   "cell_type": "code",
   "execution_count": 46,
   "id": "8fadaf73-0550-488a-97f1-05069c01236a",
   "metadata": {},
   "outputs": [
    {
     "name": "stdout",
     "output_type": "stream",
     "text": [
      "9009 incidents in this object.\n"
     ]
    },
    {
     "name": "stderr",
     "output_type": "stream",
     "text": [
      "Warning message:\n",
      "\"`getenumCI2019()` was deprecated in verisr version 2.3.1.0005.\n",
      "Please use `getenumCI2020()` instead.\"\n"
     ]
    },
    {
     "data": {
      "text/plain": [
       "    actor              action             asset            attribute        \n",
       " Length:13205       Length:13205       Length:13205       Length:13205      \n",
       " Class :character   Class :character   Class :character   Class :character  \n",
       " Mode  :character   Mode  :character   Mode  :character   Mode  :character  "
      ]
     },
     "metadata": {},
     "output_type": "display_data"
    }
   ],
   "source": [
    "summary(veris)"
   ]
  },
  {
   "cell_type": "code",
   "execution_count": 156,
   "id": "7ef89ec7-2151-4474-8dec-e8b95c0df84b",
   "metadata": {},
   "outputs": [
    {
     "name": "stdout",
     "output_type": "stream",
     "text": [
      "               enum   x    n freq\n",
      "1     Less than 100 313 1279  25%\n",
      "2 10,001 to 100,000 215 1279  17%\n",
      "3       101 to 1000 356 1279  28%\n",
      "4     1001 to 10000 326 1279  25%\n",
      "5       Over 100000  69 1279   5%\n"
     ]
    }
   ],
   "source": [
    "df1<-veris%>%\n",
    "    filter(plus.dbir_year %in% c(2017:2021))%>% # filter to years 2017 - 2021\n",
    "    filter(attribute.confidentiality.data_disclosure.Yes)%>%# filter to look at confirmed breaches only\n",
    "    getenumCI(\"victim.employee_count\")%>%\n",
    "    filter(!enum %in% c(\"Small\",\"Large\",\"Unknown\"))%>%\n",
    "    mutate(n=sum(x))%>%\n",
    "    mutate(freq=x/n)\n",
    "\n",
    "# Combine 1-10 with 11-100 to get data for less than 100 employees\n",
    "df2<-df1%>%\n",
    "    filter(enum %in% c(\"1 to 10\",\"11 to 100\"))%>%\n",
    "    mutate(enum=\"Less than 100\")%>%\n",
    "    mutate(freq=round(freq,2))%>%\n",
    "    mutate(x=sum(x))%>%\n",
    "    mutate(freq=sum(freq))%>%\n",
    "    distinct(x, .keep_all=TRUE)\n",
    "\n",
    "df3<-df1%>%filter(enum %in% c(\"10001 to 25000\",\"25001 to 50000\", \"50001 to 100000\"))%>%\n",
    "    mutate(freq=sum(freq))%>%\n",
    "    mutate(enum=\"10,001 to 100,000\")%>%\n",
    "    mutate(x=sum(x))%>%\n",
    "    distinct(freq, .keep_all=TRUE)\n",
    "\n",
    "df4<-df1%>%filter(!enum%in% c(\"1 to 10\",\"11 to 100\",\"10001 to 25000\",\"25001 to 50000\", \"50001 to 100000\"))\n",
    "df<-rbind(df2,df3,df4)#%>%mutate(freq=percent(freq,accuracy=1))\n",
    "df<-df%>%mutate(freq=percent(freq,accuracy=1))\n",
    "print('Company data breaches broken down by company\n",
    "print(df)"
   ]
  },
  {
   "cell_type": "code",
   "execution_count": null,
   "id": "2fb82251-6cc3-4722-8c96-abb1b36d8ea9",
   "metadata": {},
   "outputs": [],
   "source": []
  }
 ],
 "metadata": {
  "kernelspec": {
   "display_name": "R",
   "language": "R",
   "name": "ir"
  },
  "language_info": {
   "codemirror_mode": "r",
   "file_extension": ".r",
   "mimetype": "text/x-r-source",
   "name": "R",
   "pygments_lexer": "r",
   "version": "4.1.3"
  }
 },
 "nbformat": 4,
 "nbformat_minor": 5
}
